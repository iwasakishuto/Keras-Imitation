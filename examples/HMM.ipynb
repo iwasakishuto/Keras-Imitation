{
 "cells": [
  {
   "cell_type": "code",
   "execution_count": 214,
   "metadata": {},
   "outputs": [],
   "source": [
    "import numpy as np\n",
    "import matplotlib.pyplot as plt"
   ]
  },
  {
   "cell_type": "code",
   "execution_count": 215,
   "metadata": {},
   "outputs": [],
   "source": [
    "seed = 0\n",
    "n_samples = 10000\n",
    "n_features = 2\n",
    "n_hstates = 3"
   ]
  },
  {
   "cell_type": "code",
   "execution_count": 216,
   "metadata": {},
   "outputs": [],
   "source": [
    "rnd = np.random.RandomState(seed)"
   ]
  },
  {
   "cell_type": "markdown",
   "metadata": {},
   "source": [
    "## Bernoulli HMM"
   ]
  },
  {
   "cell_type": "code",
   "execution_count": 217,
   "metadata": {},
   "outputs": [],
   "source": [
    "from kerasy.ML.HMM import BernoulliHMM"
   ]
  },
  {
   "cell_type": "code",
   "execution_count": 218,
   "metadata": {},
   "outputs": [],
   "source": [
    "model = BernoulliHMM(n_hstates, random_state=seed)"
   ]
  },
  {
   "cell_type": "code",
   "execution_count": 219,
   "metadata": {},
   "outputs": [],
   "source": [
    "samples = rnd.rand(n_samples, 1).round().astype(int)"
   ]
  },
  {
   "cell_type": "code",
   "execution_count": 220,
   "metadata": {},
   "outputs": [
    {
     "name": "stdout",
     "output_type": "stream",
     "text": [
      "\r",
      "BernoulliHMM (Baum-Welch) 01/10 [##------------------]  10.00% - 0.000s  log probability: -8149.581802262507\r",
      "BernoulliHMM (Baum-Welch) 02/10 [####----------------]  20.00% - 0.096s  log probability: -6932.359137050144"
     ]
    }
   ],
   "source": [
    "model.fit(samples)"
   ]
  },
  {
   "cell_type": "code",
   "execution_count": 222,
   "metadata": {},
   "outputs": [
    {
     "ename": "ImportError",
     "evalue": "You Need to install `seaborn`",
     "output_type": "error",
     "traceback": [
      "\u001b[0;31m---------------------------------------------------------------------------\u001b[0m",
      "\u001b[0;31mImportError\u001b[0m                               Traceback (most recent call last)",
      "\u001b[0;32m~/Github/portfolio/Kerasy/kerasy/ML/HMM.py\u001b[0m in \u001b[0;36mheatmap_params\u001b[0;34m(self, **plot_kwargs)\u001b[0m\n\u001b[1;32m    489\u001b[0m             \u001b[0;32mimport\u001b[0m \u001b[0mseaborn\u001b[0m \u001b[0;32mas\u001b[0m \u001b[0msns\u001b[0m\u001b[0;34m\u001b[0m\u001b[0;34m\u001b[0m\u001b[0m\n\u001b[0;32m--> 490\u001b[0;31m             \u001b[0;32mfrom\u001b[0m \u001b[0;34m.\u001b[0m \u001b[0;32mimport\u001b[0m \u001b[0mUTILS_DIR_PATH\u001b[0m\u001b[0;34m\u001b[0m\u001b[0;34m\u001b[0m\u001b[0m\n\u001b[0m\u001b[1;32m    491\u001b[0m             \u001b[0mabs_path\u001b[0m \u001b[0;34m=\u001b[0m \u001b[0mos\u001b[0m\u001b[0;34m.\u001b[0m\u001b[0mpath\u001b[0m\u001b[0;34m.\u001b[0m\u001b[0mjoin\u001b[0m\u001b[0;34m(\u001b[0m\u001b[0mUTILS_DIR_PATH\u001b[0m\u001b[0;34m,\u001b[0m \u001b[0;34m\"default_params\"\u001b[0m\u001b[0;34m,\u001b[0m \u001b[0;34m\"sns_heatmap_kwargs.json\"\u001b[0m\u001b[0;34m)\u001b[0m\u001b[0;34m\u001b[0m\u001b[0;34m\u001b[0m\u001b[0m\n",
      "\u001b[0;31mImportError\u001b[0m: cannot import name 'UTILS_DIR_PATH'",
      "\nDuring handling of the above exception, another exception occurred:\n",
      "\u001b[0;31mImportError\u001b[0m                               Traceback (most recent call last)",
      "\u001b[0;32m<ipython-input-222-463765b8b39b>\u001b[0m in \u001b[0;36m<module>\u001b[0;34m\u001b[0m\n\u001b[0;32m----> 1\u001b[0;31m \u001b[0mmodel\u001b[0m\u001b[0;34m.\u001b[0m\u001b[0mheatmap_params\u001b[0m\u001b[0;34m(\u001b[0m\u001b[0;34m)\u001b[0m\u001b[0;34m\u001b[0m\u001b[0;34m\u001b[0m\u001b[0m\n\u001b[0m",
      "\u001b[0;32m~/Github/portfolio/Kerasy/kerasy/ML/HMM.py\u001b[0m in \u001b[0;36mheatmap_params\u001b[0;34m(self, **plot_kwargs)\u001b[0m\n\u001b[1;32m    493\u001b[0m                 \u001b[0mDEFAULT_KWARGS\u001b[0m \u001b[0;34m=\u001b[0m \u001b[0mjson\u001b[0m\u001b[0;34m.\u001b[0m\u001b[0mload\u001b[0m\u001b[0;34m(\u001b[0m\u001b[0mf\u001b[0m\u001b[0;34m)\u001b[0m\u001b[0;34m\u001b[0m\u001b[0;34m\u001b[0m\u001b[0m\n\u001b[1;32m    494\u001b[0m         \u001b[0;32mexcept\u001b[0m\u001b[0;34m:\u001b[0m\u001b[0;34m\u001b[0m\u001b[0;34m\u001b[0m\u001b[0m\n\u001b[0;32m--> 495\u001b[0;31m             \u001b[0;32mraise\u001b[0m \u001b[0mImportError\u001b[0m\u001b[0;34m(\u001b[0m\u001b[0;34m\"You Need to install `seaborn`\"\u001b[0m\u001b[0;34m)\u001b[0m\u001b[0;34m\u001b[0m\u001b[0;34m\u001b[0m\u001b[0m\n\u001b[0m\u001b[1;32m    496\u001b[0m \u001b[0;34m\u001b[0m\u001b[0m\n\u001b[1;32m    497\u001b[0m         \u001b[0mn_hstates\u001b[0m \u001b[0;34m=\u001b[0m \u001b[0mself\u001b[0m\u001b[0;34m.\u001b[0m\u001b[0mn_hstates\u001b[0m\u001b[0;34m\u001b[0m\u001b[0;34m\u001b[0m\u001b[0m\n",
      "\u001b[0;31mImportError\u001b[0m: You Need to install `seaborn`"
     ]
    }
   ],
   "source": [
    "model.heatmap_params()"
   ]
  },
  {
   "cell_type": "code",
   "execution_count": 221,
   "metadata": {},
   "outputs": [
    {
     "data": {
      "text/plain": [
       "array([[0.62268276, 0.37731724],\n",
       "       [0.68768748, 0.31231252],\n",
       "       [0.06198365, 0.93801635]])"
      ]
     },
     "execution_count": 221,
     "metadata": {},
     "output_type": "execute_result"
    }
   ],
   "source": [
    "model.emission"
   ]
  },
  {
   "cell_type": "markdown",
   "metadata": {},
   "source": [
    "- `emission[k,0]` is **succes/yes probability** when hidden state is $k$.\n",
    "- `emission[k,1]` is **failure/no probability** when hidden state is $k$."
   ]
  },
  {
   "cell_type": "code",
   "execution_count": 64,
   "metadata": {},
   "outputs": [
    {
     "name": "stdout",
     "output_type": "stream",
     "text": [
      "Algorithm: viterbi\n"
     ]
    },
    {
     "data": {
      "image/png": "[encoded data removed]",
      "text/plain": [
       "<Figure size 432x288 with 1 Axes>"
      ]
     },
     "metadata": {
      "needs_background": "light"
     },
     "output_type": "display_data"
    }
   ],
   "source": [
    "plt.hist(model.predict(samples[0:300]), bins=3)\n",
    "plt.show()"
   ]
  },
  {
   "cell_type": "code",
   "execution_count": 69,
   "metadata": {},
   "outputs": [],
   "source": [
    "samples[0:300] = samples[0]"
   ]
  },
  {
   "cell_type": "code",
   "execution_count": 70,
   "metadata": {},
   "outputs": [
    {
     "name": "stdout",
     "output_type": "stream",
     "text": [
      "\r",
      "BernoulliHMM (Baum-Welch) 01/10 [##------------------]  10.00% - 0.000s  log probability: -7242.668907805498\r",
      "BernoulliHMM (Baum-Welch) 02/10 [####----------------]  20.00% - 0.131s  log probability: -6927.407181679362"
     ]
    }
   ],
   "source": [
    "model.fit(samples)"
   ]
  },
  {
   "cell_type": "code",
   "execution_count": 71,
   "metadata": {},
   "outputs": [
    {
     "data": {
      "text/plain": [
       "array([[0.34395332, 0.65604668],\n",
       "       [0.44229874, 0.55770126],\n",
       "       [0.85506005, 0.14493995]])"
      ]
     },
     "execution_count": 71,
     "metadata": {},
     "output_type": "execute_result"
    }
   ],
   "source": [
    "model.emission"
   ]
  },
  {
   "cell_type": "code",
   "execution_count": 72,
   "metadata": {},
   "outputs": [
    {
     "name": "stdout",
     "output_type": "stream",
     "text": [
      "Algorithm: viterbi\n",
      "Algorithm: viterbi\n"
     ]
    },
    {
     "data": {
      "image/png": "[encoded data removed]",
      "text/plain": [
       "<Figure size 864x432 with 2 Axes>"
      ]
     },
     "metadata": {
      "needs_background": "light"
     },
     "output_type": "display_data"
    }
   ],
   "source": [
    "fig, (axL,axR) = plt.subplots(1, 2, sharey=True, figsize=(12,6))\n",
    "axL.hist(model.predict(samples[0:300]), bins=n_hstates)\n",
    "axR.hist(model.predict(samples), bins=n_hstates)\n",
    "plt.show()"
   ]
  },
  {
   "cell_type": "markdown",
   "metadata": {},
   "source": [
    "## Multinomial HMM"
   ]
  },
  {
   "cell_type": "code",
   "execution_count": 59,
   "metadata": {},
   "outputs": [],
   "source": [
    "from kerasy.ML.HMM import MultinomialHMM"
   ]
  },
  {
   "cell_type": "code",
   "execution_count": 73,
   "metadata": {},
   "outputs": [],
   "source": [
    "model = MultinomialHMM(n_hstates, random_state=seed)"
   ]
  },
  {
   "cell_type": "code",
   "execution_count": 78,
   "metadata": {},
   "outputs": [],
   "source": [
    "samples = rnd.uniform(low=0, high=3, size=(n_samples,1)).round().astype(int)"
   ]
  },
  {
   "cell_type": "code",
   "execution_count": 79,
   "metadata": {},
   "outputs": [
    {
     "name": "stdout",
     "output_type": "stream",
     "text": [
      "\r",
      "MultinomialHMM (Baum-Welch) 01/10 [##------------------]  10.00% - 0.000s  log probability: -13669.706721935578\r",
      "MultinomialHMM (Baum-Welch) 02/10 [####----------------]  20.00% - 0.094s  log probability: -13290.85912531253"
     ]
    }
   ],
   "source": [
    "model.fit(samples)"
   ]
  },
  {
   "cell_type": "code",
   "execution_count": 83,
   "metadata": {},
   "outputs": [
    {
     "ename": "AttributeError",
     "evalue": "'MultinomialHMM' object has no attribute 'tarnsit'",
     "output_type": "error",
     "traceback": [
      "\u001b[0;31m---------------------------------------------------------------------------\u001b[0m",
      "\u001b[0;31mAttributeError\u001b[0m                            Traceback (most recent call last)",
      "\u001b[0;32m<ipython-input-83-8d85e2aa3394>\u001b[0m in \u001b[0;36m<module>\u001b[0;34m\u001b[0m\n\u001b[0;32m----> 1\u001b[0;31m \u001b[0mmodel\u001b[0m\u001b[0;34m.\u001b[0m\u001b[0mtarnsit\u001b[0m\u001b[0;34m\u001b[0m\u001b[0;34m\u001b[0m\u001b[0m\n\u001b[0m",
      "\u001b[0;31mAttributeError\u001b[0m: 'MultinomialHMM' object has no attribute 'tarnsit'"
     ]
    }
   ],
   "source": [
    "model.params_plot"
   ]
  },
  {
   "cell_type": "code",
   "execution_count": 203,
   "metadata": {},
   "outputs": [],
   "source": [
    "import json"
   ]
  },
  {
   "cell_type": "code",
   "execution_count": 204,
   "metadata": {},
   "outputs": [],
   "source": [
    "from kerasy.utils.param_utils import UTILS_DIR_PATH"
   ]
  },
  {
   "cell_type": "code",
   "execution_count": 205,
   "metadata": {},
   "outputs": [
    {
     "data": {
      "text/plain": [
       "'/Users/iwasakishuto/Github/portfolio/Kerasy/kerasy/utils'"
      ]
     },
     "execution_count": 205,
     "metadata": {},
     "output_type": "execute_result"
    }
   ],
   "source": [
    "UTILS_DIR_PATH"
   ]
  },
  {
   "cell_type": "code",
   "execution_count": 207,
   "metadata": {},
   "outputs": [],
   "source": [
    "import os"
   ]
  },
  {
   "cell_type": "code",
   "execution_count": 209,
   "metadata": {},
   "outputs": [],
   "source": [
    "path = os.path.join(UTILS_DIR_PATH, \"default_params\", \"sns_heatmap_kwargs.json\")"
   ]
  },
  {
   "cell_type": "code",
   "execution_count": 212,
   "metadata": {},
   "outputs": [],
   "source": [
    "with open(path, 'r') as f:\n",
    "    params = json.load(f)"
   ]
  },
  {
   "cell_type": "code",
   "execution_count": 213,
   "metadata": {},
   "outputs": [
    {
     "data": {
      "text/plain": [
       "{'vmin': 0,\n",
       " 'vmax': 1,\n",
       " 'annot': True,\n",
       " 'fmt': '.3g',\n",
       " 'cmap': 'binary',\n",
       " 'cbar': False}"
      ]
     },
     "execution_count": 213,
     "metadata": {},
     "output_type": "execute_result"
    }
   ],
   "source": [
    "params"
   ]
  },
  {
   "cell_type": "code",
   "execution_count": 199,
   "metadata": {},
   "outputs": [],
   "source": [
    "def heatmap_prob(self, **plot_kwargs):\n",
    "    n_hstates = self.n_hstates\n",
    "    n_rows = n_hstates + 1\n",
    "    mk_ticklabels = lambda n:[\"$z_{\" + f\"{n},{k}\" + \"}$\" for k in range(n_hstates)]\n",
    "    \n",
    "    default_plot_kwargs = {\n",
    "        \"vmin\" : 0,\n",
    "        \"vmax\" : 1, \n",
    "        \"annot\" : True,\n",
    "        \"fmt\" : '.3g',\n",
    "        \"cmap\" : \"binary\",\n",
    "        \"center\" : 1/n_hstates, \n",
    "        \"cbar\" : False,\n",
    "    }\n",
    "    default_plot_kwargs.update(plot_kwargs)\n",
    "    \n",
    "    fig = plt.figure(figsize=(2*n_hstates, 2*n_rows))\n",
    "    fig.suptitle('Initial hidden state probs\\n&\\ntransit probs')\n",
    "    axi = plt.subplot2grid((n_rows, n_hstates), (0, 0), colspan=n_hstates)\n",
    "    axt = plt.subplot2grid((n_rows, n_hstates), (1, 0), colspan=n_hstates, rowspan=n_hstates)\n",
    "    \n",
    "    sns.heatmap(\n",
    "        self.initial.reshape(1,-1), ax=axi, **default_plot_kwargs,\n",
    "        yticklabels=False, xticklabels=mk_ticklabels(0)\n",
    "    )\n",
    "    sns.heatmap(\n",
    "        self.transit, ax=axt, **default_plot_kwargs,\n",
    "        yticklabels=mk_ticklabels(\"n-1\"), xticklabels=mk_ticklabels(\"n\")\n",
    "    )\n",
    "    plt.show()"
   ]
  },
  {
   "cell_type": "code",
   "execution_count": 200,
   "metadata": {},
   "outputs": [
    {
     "data": {
      "image/png": "[encoded data removed]",
      "text/plain": [
       "<Figure size 432x576 with 2 Axes>"
      ]
     },
     "metadata": {
      "needs_background": "light"
     },
     "output_type": "display_data"
    }
   ],
   "source": [
    "heatmap_prob(model)"
   ]
  },
  {
   "cell_type": "code",
   "execution_count": null,
   "metadata": {},
   "outputs": [],
   "source": []
  },
  {
   "cell_type": "code",
   "execution_count": null,
   "metadata": {},
   "outputs": [],
   "source": [
    "vmin=0, vmax=1, annot=True, cmap=\"binary\", center=1/n_hstates, cbar=False,"
   ]
  },
  {
   "cell_type": "code",
   "execution_count": 156,
   "metadata": {},
   "outputs": [],
   "source": [
    "ticklabels = [f\"$z_{k}$\" for k in range(n_hstates)] "
   ]
  },
  {
   "cell_type": "code",
   "execution_count": 161,
   "metadata": {},
   "outputs": [
    {
     "data": {
      "text/plain": [
       "<matplotlib.axes._subplots.AxesSubplot at 0x12cec8a90>"
      ]
     },
     "execution_count": 161,
     "metadata": {},
     "output_type": "execute_result"
    },
    {
     "data": {
      "image/png": "[encoded data removed]",
      "text/plain": [
       "<Figure size 432x576 with 2 Axes>"
      ]
     },
     "metadata": {
      "needs_background": "light"
     },
     "output_type": "display_data"
    }
   ],
   "source": [
    "fig = plt.figure(figsize=(2*n_hstates, 2*(n_hstates+1)))\n",
    "\n",
    "axi = plt.subplot2grid((1+n_hstates, n_hstates), (0, 0), colspan=n_hstates)\n",
    "axi.tick_params(left=False, labelleft=False)\n",
    "\n",
    "axt = plt.subplot2grid((1+n_hstates, n_hstates), (1, 0), colspan=n_hstates, rowspan=n_hstates, sharex=axi)\n",
    "\n",
    "sns.heatmap(model.initial.reshape(1,-1), vmin=0, vmax=1, annot=True, cmap=\"binary\", center=1/n_hstates, cbar=False, ax=axi)\n",
    "sns.heatmap(model.transit, vmin=0, vmax=1, annot=True, cmap=\"binary\", center=1/n_hstates, cbar=False, ax=axt, yticklabels=ticklabels, xticklabels=ticklabels)\n"
   ]
  },
  {
   "cell_type": "code",
   "execution_count": 152,
   "metadata": {},
   "outputs": [
    {
     "data": {
      "text/plain": [
       "['z0', 'z1', 'z2']"
      ]
     },
     "execution_count": 152,
     "metadata": {},
     "output_type": "execute_result"
    }
   ],
   "source": [
    "[f\"z{i}\" for i in range(3)]"
   ]
  },
  {
   "cell_type": "code",
   "execution_count": null,
   "metadata": {},
   "outputs": [],
   "source": []
  },
  {
   "cell_type": "code",
   "execution_count": null,
   "metadata": {},
   "outputs": [],
   "source": [
    "def plot_params_prob(figsize=4):\n",
    "    n_\n",
    "    fig = plt.figure(figsize=figsize)\n",
    "    axi = plt.subplot"
   ]
  },
  {
   "cell_type": "code",
   "execution_count": 108,
   "metadata": {},
   "outputs": [],
   "source": [
    "n_hstates = 3"
   ]
  },
  {
   "cell_type": "code",
   "execution_count": 109,
   "metadata": {},
   "outputs": [
    {
     "data": {
      "text/plain": [
       "(1, 23, 1, 23, 1, 23)"
      ]
     },
     "execution_count": 109,
     "metadata": {},
     "output_type": "execute_result"
    }
   ],
   "source": []
  },
  {
   "cell_type": "code",
   "execution_count": null,
   "metadata": {},
   "outputs": [],
   "source": [
    "fig = plt.figure(figsize=())"
   ]
  },
  {
   "cell_type": "code",
   "execution_count": 107,
   "metadata": {},
   "outputs": [
    {
     "data": {
      "text/plain": [
       "<matplotlib.axes._subplots.AxesSubplot at 0x1277455f8>"
      ]
     },
     "execution_count": 107,
     "metadata": {},
     "output_type": "execute_result"
    },
    {
     "data": {
      "image/png": "[encoded data removed]",
      "text/plain": [
       "<Figure size 432x288 with 2 Axes>"
      ]
     },
     "metadata": {
      "needs_background": "light"
     },
     "output_type": "display_data"
    }
   ],
   "source": [
    "sns.heatmap(model.transit, center=1/3, vmin=0, vmax=1, annot=True, cmap=\"binary\")"
   ]
  },
  {
   "cell_type": "code",
   "execution_count": null,
   "metadata": {},
   "outputs": [],
   "source": []
  },
  {
   "cell_type": "code",
   "execution_count": 106,
   "metadata": {},
   "outputs": [
    {
     "data": {
      "text/plain": [
       "<matplotlib.axes._subplots.AxesSubplot at 0x12763cbe0>"
      ]
     },
     "execution_count": 106,
     "metadata": {},
     "output_type": "execute_result"
    },
    {
     "data": {
      "image/png": "[encoded data removed]",
      "text/plain": [
       "<Figure size 432x288 with 2 Axes>"
      ]
     },
     "metadata": {
      "needs_background": "light"
     },
     "output_type": "display_data"
    }
   ],
   "source": [
    "sns.heatmap(model.transit, vmin=0, vmax=1, annot=True, cmap=\"binary_r\")"
   ]
  },
  {
   "cell_type": "code",
   "execution_count": 86,
   "metadata": {},
   "outputs": [
    {
     "data": {
      "text/plain": [
       "array([[0.59492583, 0.23374357, 0.1713306 ],\n",
       "       [0.16221893, 0.60386993, 0.23391114],\n",
       "       [0.42692128, 0.01317156, 0.55990716]])"
      ]
     },
     "execution_count": 86,
     "metadata": {},
     "output_type": "execute_result"
    }
   ],
   "source": [
    "model.transit"
   ]
  },
  {
   "cell_type": "code",
   "execution_count": null,
   "metadata": {},
   "outputs": [],
   "source": []
  }
 ],
 "metadata": {
  "hide_input": false,
  "kernelspec": {
   "display_name": "Python 3",
   "language": "python",
   "name": "python3"
  },
  "language_info": {
   "codemirror_mode": {
    "name": "ipython",
    "version": 3
   },
   "file_extension": ".py",
   "mimetype": "text/x-python",
   "name": "python",
   "nbconvert_exporter": "python",
   "pygments_lexer": "ipython3",
   "version": "3.6.8"
  }
 },
 "nbformat": 4,
 "nbformat_minor": 2
}
